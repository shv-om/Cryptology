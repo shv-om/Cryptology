{
  "nbformat": 4,
  "nbformat_minor": 0,
  "metadata": {
    "colab": {
      "name": "DES implementation",
      "provenance": [],
      "collapsed_sections": [],
      "authorship_tag": "ABX9TyPrczsjrmuDrVyO7TTHS+Xv",
      "include_colab_link": true
    },
    "kernelspec": {
      "name": "python3",
      "display_name": "Python 3"
    },
    "language_info": {
      "name": "python"
    }
  },
  "cells": [
    {
      "cell_type": "markdown",
      "metadata": {
        "id": "view-in-github",
        "colab_type": "text"
      },
      "source": [
        "<a href=\"https://colab.research.google.com/github/shv-om/Cryptology/blob/main/DES_implementation.ipynb\" target=\"_parent\"><img src=\"https://colab.research.google.com/assets/colab-badge.svg\" alt=\"Open In Colab\"/></a>"
      ]
    },
    {
      "cell_type": "markdown",
      "source": [
        "# Conversion to Binary"
      ],
      "metadata": {
        "id": "r8bayaeGieBX"
      }
    },
    {
      "cell_type": "code",
      "source": [
        "def conbin(msg):\n",
        "  newstream = []\n",
        "  for m in msg:\n",
        "    b = format(int(m, 16), '04b')\n",
        "    newstream.append(b.replace('0b', ''))\n",
        "  \n",
        "  return ''.join(newstream)"
      ],
      "metadata": {
        "id": "GU5-mQZ3nupb"
      },
      "execution_count": 1,
      "outputs": []
    },
    {
      "cell_type": "code",
      "source": [
        "msgstream = list(conbin('0123456789abcdef'))\n",
        "print(msgstream)\n",
        "print(len(msgstream))"
      ],
      "metadata": {
        "colab": {
          "base_uri": "https://localhost:8080/"
        },
        "id": "-IjDF77GnxQl",
        "outputId": "69b5f670-7971-40e9-9e30-61d936ea33a5"
      },
      "execution_count": 2,
      "outputs": [
        {
          "output_type": "stream",
          "name": "stdout",
          "text": [
            "['0', '0', '0', '0', '0', '0', '0', '1', '0', '0', '1', '0', '0', '0', '1', '1', '0', '1', '0', '0', '0', '1', '0', '1', '0', '1', '1', '0', '0', '1', '1', '1', '1', '0', '0', '0', '1', '0', '0', '1', '1', '0', '1', '0', '1', '0', '1', '1', '1', '1', '0', '0', '1', '1', '0', '1', '1', '1', '1', '0', '1', '1', '1', '1']\n",
            "64\n"
          ]
        }
      ]
    },
    {
      "cell_type": "markdown",
      "source": [
        "# Permutation"
      ],
      "metadata": {
        "id": "lE0J5uwYXuxO"
      }
    },
    {
      "cell_type": "code",
      "source": [
        "def calc_permutation(stream, pmatrix):\n",
        "  pmshape = pmatrix.shape\n",
        "  newstream = np.empty(pmshape, str)\n",
        "  \n",
        "  for i in range(pmshape[0]):\n",
        "    for j in range(pmshape[1]):\n",
        "      # print(i, j, '-->', pmatrix[i][j]-1)\n",
        "      newstream[i][j] = stream[pmatrix[i][j]-1]\n",
        "\n",
        "  return newstream"
      ],
      "metadata": {
        "id": "otp0S8doXwvN"
      },
      "execution_count": 33,
      "outputs": []
    },
    {
      "cell_type": "code",
      "source": [
        "# Splitting stream into Left and Right stream\n",
        "def split_left_right(stream):\n",
        "  left_part = stream[:len(stream)//2]\n",
        "  right_part = stream[len(stream)//2:]\n",
        "\n",
        "  return left_part, right_part"
      ],
      "metadata": {
        "id": "ZeHllNmgbcpM"
      },
      "execution_count": 42,
      "outputs": []
    },
    {
      "cell_type": "markdown",
      "source": [
        "# Initial Permutation"
      ],
      "metadata": {
        "id": "8OYaMvBkijWW"
      }
    },
    {
      "cell_type": "code",
      "source": [
        "import numpy as np\n",
        "\n",
        "IP = np.array([[58, 50, 42, 34, 26, 18, 10, 2],\n",
        "              [60, 52, 44, 32, 28, 20, 12, 4],\n",
        "              [62, 54, 46, 38, 30, 22, 14, 6],\n",
        "              [64, 56, 48, 40, 32, 24, 16, 8],\n",
        "              [57, 49, 41, 33, 25, 17, 9, 1],\n",
        "              [59, 51, 43, 35, 27, 19, 11, 3],\n",
        "              [61, 53, 45, 37, 29, 21, 13, 5],\n",
        "              [63, 55, 47, 39, 31, 23, 15, 7]])\n",
        "\n",
        "IP"
      ],
      "metadata": {
        "colab": {
          "base_uri": "https://localhost:8080/"
        },
        "id": "j76OiStticD1",
        "outputId": "fc11eb8a-8db9-4943-b80c-ffba0f089904"
      },
      "execution_count": 29,
      "outputs": [
        {
          "output_type": "execute_result",
          "data": {
            "text/plain": [
              "array([[58, 50, 42, 34, 26, 18, 10,  2],\n",
              "       [60, 52, 44, 32, 28, 20, 12,  4],\n",
              "       [62, 54, 46, 38, 30, 22, 14,  6],\n",
              "       [64, 56, 48, 40, 32, 24, 16,  8],\n",
              "       [57, 49, 41, 33, 25, 17,  9,  1],\n",
              "       [59, 51, 43, 35, 27, 19, 11,  3],\n",
              "       [61, 53, 45, 37, 29, 21, 13,  5],\n",
              "       [63, 55, 47, 39, 31, 23, 15,  7]])"
            ]
          },
          "metadata": {},
          "execution_count": 29
        }
      ]
    },
    {
      "cell_type": "code",
      "source": [
        "# Initial Permutation\n",
        "initstream = calc_permutation(msgstream, IP)\n",
        "initstream"
      ],
      "metadata": {
        "id": "hxpquWhZnGnL",
        "colab": {
          "base_uri": "https://localhost:8080/"
        },
        "outputId": "aa66e2ef-ca38-48ff-b21c-89cf107d5234"
      },
      "execution_count": 34,
      "outputs": [
        {
          "output_type": "execute_result",
          "data": {
            "text/plain": [
              "array([['1', '1', '0', '0', '1', '1', '0', '0'],\n",
              "       ['0', '0', '0', '1', '0', '0', '0', '0'],\n",
              "       ['1', '1', '0', '0', '1', '1', '0', '0'],\n",
              "       ['1', '1', '1', '1', '1', '1', '1', '1'],\n",
              "       ['1', '1', '1', '1', '0', '0', '0', '0'],\n",
              "       ['1', '0', '1', '0', '1', '0', '1', '0'],\n",
              "       ['1', '1', '1', '1', '0', '0', '0', '0'],\n",
              "       ['1', '0', '1', '0', '1', '0', '1', '0']], dtype='<U1')"
            ]
          },
          "metadata": {},
          "execution_count": 34
        }
      ]
    },
    {
      "cell_type": "code",
      "source": [
        "MsgLeft, MsgRight = split_left_right(initstream)\n",
        "MsgLeft, MsgRight"
      ],
      "metadata": {
        "colab": {
          "base_uri": "https://localhost:8080/"
        },
        "id": "teqN8mo5nsBZ",
        "outputId": "cb75e07f-e43b-4f3b-c8f7-2e4b1830a64f"
      },
      "execution_count": 47,
      "outputs": [
        {
          "output_type": "execute_result",
          "data": {
            "text/plain": [
              "(array([['1', '1', '0', '0', '1', '1', '0', '0'],\n",
              "        ['0', '0', '0', '1', '0', '0', '0', '0'],\n",
              "        ['1', '1', '0', '0', '1', '1', '0', '0'],\n",
              "        ['1', '1', '1', '1', '1', '1', '1', '1']], dtype='<U1'),\n",
              " array([['1', '1', '1', '1', '0', '0', '0', '0'],\n",
              "        ['1', '0', '1', '0', '1', '0', '1', '0'],\n",
              "        ['1', '1', '1', '1', '0', '0', '0', '0'],\n",
              "        ['1', '0', '1', '0', '1', '0', '1', '0']], dtype='<U1'))"
            ]
          },
          "metadata": {},
          "execution_count": 47
        }
      ]
    },
    {
      "cell_type": "markdown",
      "source": [
        "# Key Generation"
      ],
      "metadata": {
        "id": "eK2te1hz2d11"
      }
    },
    {
      "cell_type": "code",
      "source": [
        "keystream = list(conbin('1234abfce5872cb9'))\n",
        "print(keystream)\n",
        "print(len(keystream))"
      ],
      "metadata": {
        "colab": {
          "base_uri": "https://localhost:8080/"
        },
        "id": "7i9SaQ6l2gFb",
        "outputId": "535c7f39-422a-4e0f-bd82-331f605bc8af"
      },
      "execution_count": 28,
      "outputs": [
        {
          "output_type": "stream",
          "name": "stdout",
          "text": [
            "['0', '0', '0', '1', '0', '0', '1', '0', '0', '0', '1', '1', '0', '1', '0', '0', '1', '0', '1', '0', '1', '0', '1', '1', '1', '1', '1', '1', '1', '1', '0', '0', '1', '1', '1', '0', '0', '1', '0', '1', '1', '0', '0', '0', '0', '1', '1', '1', '0', '0', '1', '0', '1', '1', '0', '0', '1', '0', '1', '1', '1', '0', '0', '1']\n",
            "64\n"
          ]
        }
      ]
    },
    {
      "cell_type": "code",
      "source": [
        "pc1 = np.array([[57, 49, 41, 33, 25, 17, 9],\n",
        "                [1, 58, 50, 42, 34, 26, 18],\n",
        "                [10, 2, 59, 51, 43, 35, 27],\n",
        "                [19, 11, 3, 60, 52, 44, 36],\n",
        "                [63, 55, 47, 39, 31, 23, 15],\n",
        "                [7, 62, 54, 46, 38, 30, 22],\n",
        "                [14, 6, 61, 53, 45, 37, 29],\n",
        "                [21, 13, 5, 28, 20, 12, 4]])\n",
        "\n",
        "pc1"
      ],
      "metadata": {
        "colab": {
          "base_uri": "https://localhost:8080/"
        },
        "id": "tm1E8MZaT-9o",
        "outputId": "5ee9b20d-af57-4e02-9142-83d24d9b6ee1"
      },
      "execution_count": 38,
      "outputs": [
        {
          "output_type": "execute_result",
          "data": {
            "text/plain": [
              "array([[57, 49, 41, 33, 25, 17,  9],\n",
              "       [ 1, 58, 50, 42, 34, 26, 18],\n",
              "       [10,  2, 59, 51, 43, 35, 27],\n",
              "       [19, 11,  3, 60, 52, 44, 36],\n",
              "       [63, 55, 47, 39, 31, 23, 15],\n",
              "       [ 7, 62, 54, 46, 38, 30, 22],\n",
              "       [14,  6, 61, 53, 45, 37, 29],\n",
              "       [21, 13,  5, 28, 20, 12,  4]])"
            ]
          },
          "metadata": {},
          "execution_count": 38
        }
      ]
    },
    {
      "cell_type": "code",
      "source": [
        "key_permuted = calc_permutation(keystream, pc1)\n",
        "key_permuted"
      ],
      "metadata": {
        "colab": {
          "base_uri": "https://localhost:8080/"
        },
        "id": "zguk2KvDZFWj",
        "outputId": "c6856d29-9c50-4710-cd01-6ded29d9cf23"
      },
      "execution_count": 40,
      "outputs": [
        {
          "output_type": "execute_result",
          "data": {
            "text/plain": [
              "array([['1', '0', '1', '1', '1', '1', '0'],\n",
              "       ['0', '0', '0', '0', '1', '1', '0'],\n",
              "       ['0', '0', '1', '1', '0', '1', '1'],\n",
              "       ['1', '1', '0', '1', '0', '0', '0'],\n",
              "       ['0', '0', '1', '0', '0', '1', '0'],\n",
              "       ['1', '0', '1', '1', '1', '1', '0'],\n",
              "       ['1', '0', '1', '1', '0', '0', '1'],\n",
              "       ['1', '0', '0', '1', '0', '1', '1']], dtype='<U1')"
            ]
          },
          "metadata": {},
          "execution_count": 40
        }
      ]
    },
    {
      "cell_type": "code",
      "source": [
        "KeyLeft, KeyRight = split_left_right(key_permuted)\n",
        "KeyLeft, KeyRight"
      ],
      "metadata": {
        "colab": {
          "base_uri": "https://localhost:8080/"
        },
        "id": "iFzyWrj5dYOF",
        "outputId": "c477326f-a445-4ce7-d814-97efd4d48c96"
      },
      "execution_count": 49,
      "outputs": [
        {
          "output_type": "execute_result",
          "data": {
            "text/plain": [
              "(array([['1', '0', '1', '1', '1', '1', '0'],\n",
              "        ['0', '0', '0', '0', '1', '1', '0'],\n",
              "        ['0', '0', '1', '1', '0', '1', '1'],\n",
              "        ['1', '1', '0', '1', '0', '0', '0']], dtype='<U1'),\n",
              " array([['0', '0', '1', '0', '0', '1', '0'],\n",
              "        ['1', '0', '1', '1', '1', '1', '0'],\n",
              "        ['1', '0', '1', '1', '0', '0', '1'],\n",
              "        ['1', '0', '0', '1', '0', '1', '1']], dtype='<U1'))"
            ]
          },
          "metadata": {},
          "execution_count": 49
        }
      ]
    },
    {
      "cell_type": "code",
      "source": [
        "FP = np.array([[40, 8, 48, 16, 56, 24, 64, 32],\n",
        "              [39, 7, 47, 15, 55, 23, 63, 31],\n",
        "              [38, 6, 46, 14, 54, 22, 62, 30],\n",
        "              [37, 5, 45, 13, 53, 21, 61, 29],\n",
        "              [36, 4, 44, 12, 52, 20, 60, 28],\n",
        "              [35, 3, 43, 11, 51, 19, 59, 27],\n",
        "              [34, 2, 42, 10, 50, 18, 58, 26],\n",
        "              [33, 1, 41, 9, 49, 17, 57, 25]])"
      ],
      "metadata": {
        "id": "6hBFFB9uzYeW"
      },
      "execution_count": 7,
      "outputs": []
    }
  ]
}