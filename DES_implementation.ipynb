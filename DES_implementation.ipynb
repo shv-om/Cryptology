{
  "nbformat": 4,
  "nbformat_minor": 0,
  "metadata": {
    "colab": {
      "name": "DES implementation",
      "provenance": [],
      "collapsed_sections": [
        "r8bayaeGieBX",
        "8OYaMvBkijWW"
      ],
      "authorship_tag": "ABX9TyP2wMnjpZbt1x7r2LUKP6ck",
      "include_colab_link": true
    },
    "kernelspec": {
      "name": "python3",
      "display_name": "Python 3"
    },
    "language_info": {
      "name": "python"
    }
  },
  "cells": [
    {
      "cell_type": "markdown",
      "metadata": {
        "id": "view-in-github",
        "colab_type": "text"
      },
      "source": [
        "<a href=\"https://colab.research.google.com/github/shv-om/Cryptology/blob/main/DES_implementation.ipynb\" target=\"_parent\"><img src=\"https://colab.research.google.com/assets/colab-badge.svg\" alt=\"Open In Colab\"/></a>"
      ]
    },
    {
      "cell_type": "markdown",
      "source": [
        "# Conversion to Binary"
      ],
      "metadata": {
        "id": "r8bayaeGieBX"
      }
    },
    {
      "cell_type": "code",
      "source": [
        "def conbin(msg):\n",
        "  newstream = []\n",
        "  for m in msg:\n",
        "    b = format(int(m, 16), '04b')\n",
        "    newstream.append(b.replace('0b', ''))\n",
        "  \n",
        "  return ''.join(newstream)"
      ],
      "metadata": {
        "id": "GU5-mQZ3nupb"
      },
      "execution_count": null,
      "outputs": []
    },
    {
      "cell_type": "code",
      "source": [
        "msgstream = list(conbin('0123456789abcdef'))\n",
        "print(msgstream)\n",
        "print(len(msgstream))"
      ],
      "metadata": {
        "colab": {
          "base_uri": "https://localhost:8080/"
        },
        "id": "-IjDF77GnxQl",
        "outputId": "69b5f670-7971-40e9-9e30-61d936ea33a5"
      },
      "execution_count": null,
      "outputs": [
        {
          "output_type": "stream",
          "name": "stdout",
          "text": [
            "['0', '0', '0', '0', '0', '0', '0', '1', '0', '0', '1', '0', '0', '0', '1', '1', '0', '1', '0', '0', '0', '1', '0', '1', '0', '1', '1', '0', '0', '1', '1', '1', '1', '0', '0', '0', '1', '0', '0', '1', '1', '0', '1', '0', '1', '0', '1', '1', '1', '1', '0', '0', '1', '1', '0', '1', '1', '1', '1', '0', '1', '1', '1', '1']\n",
            "64\n"
          ]
        }
      ]
    },
    {
      "cell_type": "markdown",
      "source": [
        "# Permutation"
      ],
      "metadata": {
        "id": "lE0J5uwYXuxO"
      }
    },
    {
      "cell_type": "code",
      "source": [
        "def calc_permutation(stream, pmatrix):\n",
        "  pmshape = pmatrix.shape\n",
        "  pmsize = pmatrix.size\n",
        "\n",
        "  newstream = np.empty(pmshape, str)\n",
        "  \n",
        "  for i in range(pmshape[0]):\n",
        "    for j in range(pmshape[1]):\n",
        "      # print(i, j, '-->', pmatrix[i][j]-1)\n",
        "      newstream[i][j] = stream[pmatrix[i][j]-1]\n",
        "\n",
        "  return ''.join(newstream.reshape(pmsize))"
      ],
      "metadata": {
        "id": "otp0S8doXwvN"
      },
      "execution_count": 107,
      "outputs": []
    },
    {
      "cell_type": "code",
      "source": [
        "# Splitting stream into Left and Right stream\n",
        "def split_left_right(stream):\n",
        "  left_part = stream[:len(stream)//2]\n",
        "  right_part = stream[len(stream)//2:]\n",
        "\n",
        "  return ''.join(left_part), ''.join(right_part)"
      ],
      "metadata": {
        "id": "ZeHllNmgbcpM"
      },
      "execution_count": null,
      "outputs": []
    },
    {
      "cell_type": "markdown",
      "source": [
        "# Initial Permutation"
      ],
      "metadata": {
        "id": "8OYaMvBkijWW"
      }
    },
    {
      "cell_type": "code",
      "source": [
        "import numpy as np\n",
        "\n",
        "IP = np.array([[58, 50, 42, 34, 26, 18, 10, 2],\n",
        "              [60, 52, 44, 32, 28, 20, 12, 4],\n",
        "              [62, 54, 46, 38, 30, 22, 14, 6],\n",
        "              [64, 56, 48, 40, 32, 24, 16, 8],\n",
        "              [57, 49, 41, 33, 25, 17, 9, 1],\n",
        "              [59, 51, 43, 35, 27, 19, 11, 3],\n",
        "              [61, 53, 45, 37, 29, 21, 13, 5],\n",
        "              [63, 55, 47, 39, 31, 23, 15, 7]])\n",
        "\n",
        "IP"
      ],
      "metadata": {
        "colab": {
          "base_uri": "https://localhost:8080/"
        },
        "id": "j76OiStticD1",
        "outputId": "782aff6a-ebf4-403d-ef01-99ef51d18d4d"
      },
      "execution_count": null,
      "outputs": [
        {
          "output_type": "execute_result",
          "data": {
            "text/plain": [
              "array([[58, 50, 42, 34, 26, 18, 10,  2],\n",
              "       [60, 52, 44, 32, 28, 20, 12,  4],\n",
              "       [62, 54, 46, 38, 30, 22, 14,  6],\n",
              "       [64, 56, 48, 40, 32, 24, 16,  8],\n",
              "       [57, 49, 41, 33, 25, 17,  9,  1],\n",
              "       [59, 51, 43, 35, 27, 19, 11,  3],\n",
              "       [61, 53, 45, 37, 29, 21, 13,  5],\n",
              "       [63, 55, 47, 39, 31, 23, 15,  7]])"
            ]
          },
          "metadata": {},
          "execution_count": 61
        }
      ]
    },
    {
      "cell_type": "code",
      "source": [
        "# Initial Permutation\n",
        "initstream = calc_permutation(msgstream, IP)\n",
        "initstream"
      ],
      "metadata": {
        "id": "hxpquWhZnGnL",
        "colab": {
          "base_uri": "https://localhost:8080/",
          "height": 35
        },
        "outputId": "4833d871-9c13-4330-dfa9-47bdf7c94541"
      },
      "execution_count": 108,
      "outputs": [
        {
          "output_type": "execute_result",
          "data": {
            "text/plain": [
              "'1100110000010000110011001111111111110000101010101111000010101010'"
            ],
            "application/vnd.google.colaboratory.intrinsic+json": {
              "type": "string"
            }
          },
          "metadata": {},
          "execution_count": 108
        }
      ]
    },
    {
      "cell_type": "code",
      "source": [
        "MsgLeft, MsgRight = split_left_right(initstream)\n",
        "MsgLeft, MsgRight"
      ],
      "metadata": {
        "colab": {
          "base_uri": "https://localhost:8080/"
        },
        "id": "teqN8mo5nsBZ",
        "outputId": "209cfd49-b9ff-41ef-d754-b5f533a6a02c"
      },
      "execution_count": null,
      "outputs": [
        {
          "output_type": "execute_result",
          "data": {
            "text/plain": [
              "('11001100000100001100110011111111', '11110000101010101111000010101010')"
            ]
          },
          "metadata": {},
          "execution_count": 74
        }
      ]
    },
    {
      "cell_type": "markdown",
      "source": [
        "# Key Generation"
      ],
      "metadata": {
        "id": "eK2te1hz2d11"
      }
    },
    {
      "cell_type": "code",
      "source": [
        "# Key circular left shift\n",
        "def key_left_circular_shift(stream, times):\n",
        "    for i in range(times):\n",
        "      stream = stream[1:] + stream[0]\n",
        "    \n",
        "    return stream"
      ],
      "metadata": {
        "id": "FqnBKm9mn9u7"
      },
      "execution_count": null,
      "outputs": []
    },
    {
      "cell_type": "code",
      "source": [
        "keystream = list(conbin('1234abfce5872cb9'))\n",
        "print(keystream)\n",
        "print(len(keystream))"
      ],
      "metadata": {
        "colab": {
          "base_uri": "https://localhost:8080/"
        },
        "id": "7i9SaQ6l2gFb",
        "outputId": "4a997446-ca32-4596-9e32-756e41c97369"
      },
      "execution_count": null,
      "outputs": [
        {
          "output_type": "stream",
          "name": "stdout",
          "text": [
            "['0', '0', '0', '1', '0', '0', '1', '0', '0', '0', '1', '1', '0', '1', '0', '0', '1', '0', '1', '0', '1', '0', '1', '1', '1', '1', '1', '1', '1', '1', '0', '0', '1', '1', '1', '0', '0', '1', '0', '1', '1', '0', '0', '0', '0', '1', '1', '1', '0', '0', '1', '0', '1', '1', '0', '0', '1', '0', '1', '1', '1', '0', '0', '1']\n",
            "64\n"
          ]
        }
      ]
    },
    {
      "cell_type": "code",
      "source": [
        "pc1 = np.array([[57, 49, 41, 33, 25, 17, 9],\n",
        "                [1, 58, 50, 42, 34, 26, 18],\n",
        "                [10, 2, 59, 51, 43, 35, 27],\n",
        "                [19, 11, 3, 60, 52, 44, 36],\n",
        "                [63, 55, 47, 39, 31, 23, 15],\n",
        "                [7, 62, 54, 46, 38, 30, 22],\n",
        "                [14, 6, 61, 53, 45, 37, 29],\n",
        "                [21, 13, 5, 28, 20, 12, 4]])\n",
        "\n",
        "pc1"
      ],
      "metadata": {
        "colab": {
          "base_uri": "https://localhost:8080/"
        },
        "id": "tm1E8MZaT-9o",
        "outputId": "97cb77f8-ce53-4a36-8f5d-a711ba24ba85"
      },
      "execution_count": null,
      "outputs": [
        {
          "output_type": "execute_result",
          "data": {
            "text/plain": [
              "array([[57, 49, 41, 33, 25, 17,  9],\n",
              "       [ 1, 58, 50, 42, 34, 26, 18],\n",
              "       [10,  2, 59, 51, 43, 35, 27],\n",
              "       [19, 11,  3, 60, 52, 44, 36],\n",
              "       [63, 55, 47, 39, 31, 23, 15],\n",
              "       [ 7, 62, 54, 46, 38, 30, 22],\n",
              "       [14,  6, 61, 53, 45, 37, 29],\n",
              "       [21, 13,  5, 28, 20, 12,  4]])"
            ]
          },
          "metadata": {},
          "execution_count": 75
        }
      ]
    },
    {
      "cell_type": "code",
      "source": [
        "pc2 = np.array([[14, 17, 11, 24, 1, 5],\n",
        "                [3, 28, 15, 6, 21, 10],\n",
        "                [23, 19, 12, 4, 26, 8],\n",
        "                [16, 7, 27, 20, 13, 2],\n",
        "                [41, 52, 31, 37, 47, 55],\n",
        "                [30, 40, 51, 45, 33, 48],\n",
        "                [44, 49, 39, 56, 34, 53],\n",
        "                [46, 42, 50, 36, 29, 32]])\n",
        "\n",
        "pc2"
      ],
      "metadata": {
        "colab": {
          "base_uri": "https://localhost:8080/"
        },
        "id": "-jTR9vECvHH6",
        "outputId": "97bc70c1-712f-4da5-a9a3-5ba59bba0833"
      },
      "execution_count": null,
      "outputs": [
        {
          "output_type": "execute_result",
          "data": {
            "text/plain": [
              "array([[14, 17, 11, 24,  1,  5],\n",
              "       [ 3, 28, 15,  6, 21, 10],\n",
              "       [23, 19, 12,  4, 26,  8],\n",
              "       [16,  7, 27, 20, 13,  2],\n",
              "       [41, 52, 31, 37, 47, 55],\n",
              "       [30, 40, 51, 45, 33, 48],\n",
              "       [44, 49, 39, 56, 34, 53],\n",
              "       [46, 42, 50, 36, 29, 32]])"
            ]
          },
          "metadata": {},
          "execution_count": 98
        }
      ]
    },
    {
      "cell_type": "code",
      "source": [
        "key_permuted = calc_permutation(keystream, pc1)\n",
        "key_permuted"
      ],
      "metadata": {
        "colab": {
          "base_uri": "https://localhost:8080/",
          "height": 35
        },
        "id": "zguk2KvDZFWj",
        "outputId": "15c901c5-117c-4e3d-dc59-a8ac068b6a88"
      },
      "execution_count": 109,
      "outputs": [
        {
          "output_type": "execute_result",
          "data": {
            "text/plain": [
              "'10111100000110001101111010000010010101111010110011001011'"
            ],
            "application/vnd.google.colaboratory.intrinsic+json": {
              "type": "string"
            }
          },
          "metadata": {},
          "execution_count": 109
        }
      ]
    },
    {
      "cell_type": "code",
      "source": [
        "# Splitting keystream into left and right part\n",
        "KeyLeft, KeyRight = split_left_right(key_permuted)\n",
        "KeyLeft, KeyRight"
      ],
      "metadata": {
        "colab": {
          "base_uri": "https://localhost:8080/"
        },
        "id": "iFzyWrj5dYOF",
        "outputId": "b4ebf0bb-bd2a-4c25-8ee4-f0ecaea101cd"
      },
      "execution_count": 110,
      "outputs": [
        {
          "output_type": "execute_result",
          "data": {
            "text/plain": [
              "('1011110000011000110111101000', '0010010101111010110011001011')"
            ]
          },
          "metadata": {},
          "execution_count": 110
        }
      ]
    },
    {
      "cell_type": "code",
      "source": [
        "# Creating 16 keys by Left shift\n",
        "key_pairs = []\n",
        "\n",
        "tempkeypair = KeyLeft, KeyRight\n",
        "\n",
        "for i in range(1, 17):\n",
        "  if i in [1, 2, 9, 16]:\n",
        "    tempkeypair = key_left_circular_shift(tempkeypair[0], 1), key_left_circular_shift(tempkeypair[1], 1)\n",
        "  else:\n",
        "    tempkeypair = key_left_circular_shift(tempkeypair[0], 2), key_left_circular_shift(tempkeypair[1], 2)\n",
        "  \n",
        "  key_pairs.append(tempkeypair)\n",
        "\n",
        "key_pairs\n"
      ],
      "metadata": {
        "colab": {
          "base_uri": "https://localhost:8080/"
        },
        "id": "Vant3AnNsbzJ",
        "outputId": "33bd2892-7ae0-42b5-9ef1-8c98306a3e99"
      },
      "execution_count": 111,
      "outputs": [
        {
          "output_type": "execute_result",
          "data": {
            "text/plain": [
              "[('0111100000110001101111010001', '0100101011110101100110010110'),\n",
              " ('1111000001100011011110100010', '1001010111101011001100101100'),\n",
              " ('1100000110001101111010001011', '0101011110101100110010110010'),\n",
              " ('0000011000110111101000101111', '0101111010110011001011001001'),\n",
              " ('0001100011011110100010111100', '0111101011001100101100100101'),\n",
              " ('0110001101111010001011110000', '1110101100110010110010010101'),\n",
              " ('1000110111101000101111000001', '1010110011001011001001010111'),\n",
              " ('0011011110100010111100000110', '1011001100101100100101011110'),\n",
              " ('0110111101000101111000001100', '0110011001011001001010111101'),\n",
              " ('1011110100010111100000110001', '1001100101100100101011110101'),\n",
              " ('1111010001011110000011000110', '0110010110010010101111010110'),\n",
              " ('1101000101111000001100011011', '1001011001001010111101011001'),\n",
              " ('0100010111100000110001101111', '0101100100101011110101100110'),\n",
              " ('0001011110000011000110111101', '0110010010101111010110011001'),\n",
              " ('0101111000001100011011110100', '1001001010111101011001100101'),\n",
              " ('1011110000011000110111101000', '0010010101111010110011001011')]"
            ]
          },
          "metadata": {},
          "execution_count": 111
        }
      ]
    },
    {
      "cell_type": "code",
      "source": [
        "list_of_keys = []\n",
        "\n",
        "for i in range(16):\n",
        "  temp_key = key_pairs[i][0] + key_pairs[i][1]\n",
        "  list_of_keys.append(calc_permutation(temp_key, pc2))\n",
        "\n",
        "list_of_keys\n"
      ],
      "metadata": {
        "id": "BpiQZ98qwLkh",
        "colab": {
          "base_uri": "https://localhost:8080/"
        },
        "outputId": "6762fc4d-ccaf-4f5b-ee7b-d2a702680ef7"
      },
      "execution_count": 112,
      "outputs": [
        {
          "output_type": "execute_result",
          "data": {
            "text/plain": [
              "['011101110010011100100101010101110111111000010000',\n",
              " '001010101011110100101101100110001001101011000111',\n",
              " '110010010010010001101011110101101100011010110101',\n",
              " '111000011100111010111000000110110010111111001001',\n",
              " '110101001011101110000010101110101111000100010001',\n",
              " '001100101011111001010011011000110110011100100110',\n",
              " '011011010111010001000110111111000010100110001010',\n",
              " '011000101100010111011100111001000101001001011111',\n",
              " '110001100101010011110001111010111000110111000000',\n",
              " '110111111100101101100000010010001110011100011111',\n",
              " '100010101111001110001011011111110101010010001100',\n",
              " '001110010001011101001111110010000101000111101011',\n",
              " '011000010101100011001001100001101111101000101101',\n",
              " '000100011110100111110100111100100001111111110000',\n",
              " '100101000110110110010011100110011000101100111011',\n",
              " '010011100110101100000110101001010100011111101100']"
            ]
          },
          "metadata": {},
          "execution_count": 112
        }
      ]
    },
    {
      "cell_type": "code",
      "source": [
        "FP = np.array([[40, 8, 48, 16, 56, 24, 64, 32],\n",
        "              [39, 7, 47, 15, 55, 23, 63, 31],\n",
        "              [38, 6, 46, 14, 54, 22, 62, 30],\n",
        "              [37, 5, 45, 13, 53, 21, 61, 29],\n",
        "              [36, 4, 44, 12, 52, 20, 60, 28],\n",
        "              [35, 3, 43, 11, 51, 19, 59, 27],\n",
        "              [34, 2, 42, 10, 50, 18, 58, 26],\n",
        "              [33, 1, 41, 9, 49, 17, 57, 25]])"
      ],
      "metadata": {
        "id": "6hBFFB9uzYeW"
      },
      "execution_count": null,
      "outputs": []
    }
  ]
}