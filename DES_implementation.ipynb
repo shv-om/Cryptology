{
  "nbformat": 4,
  "nbformat_minor": 0,
  "metadata": {
    "colab": {
      "name": "DES implementation",
      "provenance": [],
      "collapsed_sections": [],
      "authorship_tag": "ABX9TyMFBlLSfVHOkl8Mp0kC+9v9",
      "include_colab_link": true
    },
    "kernelspec": {
      "name": "python3",
      "display_name": "Python 3"
    },
    "language_info": {
      "name": "python"
    }
  },
  "cells": [
    {
      "cell_type": "markdown",
      "metadata": {
        "id": "view-in-github",
        "colab_type": "text"
      },
      "source": [
        "<a href=\"https://colab.research.google.com/github/shv-om/Cryptology/blob/main/DES_implementation.ipynb\" target=\"_parent\"><img src=\"https://colab.research.google.com/assets/colab-badge.svg\" alt=\"Open In Colab\"/></a>"
      ]
    },
    {
      "cell_type": "code",
      "source": [
        "import numpy as np"
      ],
      "metadata": {
        "id": "ot1Kp8P8o6Bw"
      },
      "execution_count": 263,
      "outputs": []
    },
    {
      "cell_type": "markdown",
      "source": [
        "# Conversion to Binary"
      ],
      "metadata": {
        "id": "r8bayaeGieBX"
      }
    },
    {
      "cell_type": "code",
      "source": [
        "def conbin(msg):\n",
        "  newstream = []\n",
        "  for m in msg:\n",
        "    b = format(int(m, 16), '04b')\n",
        "    newstream.append(b.replace('0b', ''))\n",
        "  \n",
        "  return ''.join(newstream)"
      ],
      "metadata": {
        "id": "GU5-mQZ3nupb"
      },
      "execution_count": 264,
      "outputs": []
    },
    {
      "cell_type": "code",
      "source": [
        "def conhex(binstream):\n",
        "  hexstream = format(int(binstream, 2), '0x')\n",
        "  \n",
        "  return str(hexstream)"
      ],
      "metadata": {
        "id": "1lfnGqJ1CPg6"
      },
      "execution_count": 265,
      "outputs": []
    },
    {
      "cell_type": "code",
      "source": [
        "# Calculating XOR for two given stream\n",
        "def calc_xor(stream1, stream2):\n",
        "  newstream = []\n",
        "  for i in range(len(stream1)):\n",
        "    newstream.append(str(int(stream1[i]) ^ int(stream2[i])))\n",
        "  \n",
        "  return ''.join(newstream)\n"
      ],
      "metadata": {
        "id": "9Q2xHkUnsI8F"
      },
      "execution_count": 266,
      "outputs": []
    },
    {
      "cell_type": "markdown",
      "source": [
        "# Permutation"
      ],
      "metadata": {
        "id": "lE0J5uwYXuxO"
      }
    },
    {
      "cell_type": "code",
      "source": [
        "def calc_permutation(stream, pmatrix):\n",
        "  pmshape = pmatrix.shape\n",
        "  pmsize = pmatrix.size\n",
        "\n",
        "  newstream = np.empty(pmshape, str)\n",
        "  \n",
        "  for i in range(pmshape[0]):\n",
        "    for j in range(pmshape[1]):\n",
        "      # print(i, j, '-->', pmatrix[i][j]-1)\n",
        "      newstream[i][j] = stream[pmatrix[i][j]-1]\n",
        "\n",
        "  return ''.join(newstream.reshape(pmsize))"
      ],
      "metadata": {
        "id": "otp0S8doXwvN"
      },
      "execution_count": 267,
      "outputs": []
    },
    {
      "cell_type": "code",
      "source": [
        "# Splitting stream into Left and Right equal bits\n",
        "def split_left_right(stream):\n",
        "  left_part = stream[:len(stream)//2]\n",
        "  right_part = stream[len(stream)//2:]\n",
        "\n",
        "  return ''.join(left_part), ''.join(right_part)"
      ],
      "metadata": {
        "id": "ZeHllNmgbcpM"
      },
      "execution_count": 268,
      "outputs": []
    },
    {
      "cell_type": "markdown",
      "source": [
        "# Key Generation"
      ],
      "metadata": {
        "id": "eK2te1hz2d11"
      }
    },
    {
      "cell_type": "code",
      "source": [
        "# Key circular left shift\n",
        "def key_left_circular_shift(stream, times):\n",
        "    for i in range(times):\n",
        "      stream = stream[1:] + stream[0]\n",
        "    \n",
        "    return stream"
      ],
      "metadata": {
        "id": "FqnBKm9mn9u7"
      },
      "execution_count": 269,
      "outputs": []
    },
    {
      "cell_type": "code",
      "source": [
        "original_key = '133457799BBCDFF1'\n",
        "keystream = list(conbin(original_key))\n",
        "print(keystream)\n",
        "print(len(keystream))"
      ],
      "metadata": {
        "colab": {
          "base_uri": "https://localhost:8080/"
        },
        "id": "7i9SaQ6l2gFb",
        "outputId": "57d147cf-c420-4d5e-e7d9-8e6a498e2c9e"
      },
      "execution_count": 270,
      "outputs": [
        {
          "output_type": "stream",
          "name": "stdout",
          "text": [
            "['0', '0', '0', '1', '0', '0', '1', '1', '0', '0', '1', '1', '0', '1', '0', '0', '0', '1', '0', '1', '0', '1', '1', '1', '0', '1', '1', '1', '1', '0', '0', '1', '1', '0', '0', '1', '1', '0', '1', '1', '1', '0', '1', '1', '1', '1', '0', '0', '1', '1', '0', '1', '1', '1', '1', '1', '1', '1', '1', '1', '0', '0', '0', '1']\n",
            "64\n"
          ]
        }
      ]
    },
    {
      "cell_type": "code",
      "source": [
        "pc1 = np.array([[57, 49, 41, 33, 25, 17, 9],\n",
        "                [1, 58, 50, 42, 34, 26, 18],\n",
        "                [10, 2, 59, 51, 43, 35, 27],\n",
        "                [19, 11, 3, 60, 52, 44, 36],\n",
        "                [63, 55, 47, 39, 31, 23, 15],\n",
        "                [7, 62, 54, 46, 38, 30, 22],\n",
        "                [14, 6, 61, 53, 45, 37, 29],\n",
        "                [21, 13, 5, 28, 20, 12, 4]])\n",
        "\n",
        "pc1"
      ],
      "metadata": {
        "colab": {
          "base_uri": "https://localhost:8080/"
        },
        "id": "tm1E8MZaT-9o",
        "outputId": "cb951c93-ead8-4493-ebc9-0852bb86a29f"
      },
      "execution_count": 271,
      "outputs": [
        {
          "output_type": "execute_result",
          "data": {
            "text/plain": [
              "array([[57, 49, 41, 33, 25, 17,  9],\n",
              "       [ 1, 58, 50, 42, 34, 26, 18],\n",
              "       [10,  2, 59, 51, 43, 35, 27],\n",
              "       [19, 11,  3, 60, 52, 44, 36],\n",
              "       [63, 55, 47, 39, 31, 23, 15],\n",
              "       [ 7, 62, 54, 46, 38, 30, 22],\n",
              "       [14,  6, 61, 53, 45, 37, 29],\n",
              "       [21, 13,  5, 28, 20, 12,  4]])"
            ]
          },
          "metadata": {},
          "execution_count": 271
        }
      ]
    },
    {
      "cell_type": "code",
      "source": [
        "pc2 = np.array([[14, 17, 11, 24, 1, 5],\n",
        "                [3, 28, 15, 6, 21, 10],\n",
        "                [23, 19, 12, 4, 26, 8],\n",
        "                [16, 7, 27, 20, 13, 2],\n",
        "                [41, 52, 31, 37, 47, 55],\n",
        "                [30, 40, 51, 45, 33, 48],\n",
        "                [44, 49, 39, 56, 34, 53],\n",
        "                [46, 42, 50, 36, 29, 32]])\n",
        "\n",
        "pc2"
      ],
      "metadata": {
        "colab": {
          "base_uri": "https://localhost:8080/"
        },
        "id": "-jTR9vECvHH6",
        "outputId": "f48340c4-4697-4e56-aac4-adff3dfe186d"
      },
      "execution_count": 272,
      "outputs": [
        {
          "output_type": "execute_result",
          "data": {
            "text/plain": [
              "array([[14, 17, 11, 24,  1,  5],\n",
              "       [ 3, 28, 15,  6, 21, 10],\n",
              "       [23, 19, 12,  4, 26,  8],\n",
              "       [16,  7, 27, 20, 13,  2],\n",
              "       [41, 52, 31, 37, 47, 55],\n",
              "       [30, 40, 51, 45, 33, 48],\n",
              "       [44, 49, 39, 56, 34, 53],\n",
              "       [46, 42, 50, 36, 29, 32]])"
            ]
          },
          "metadata": {},
          "execution_count": 272
        }
      ]
    },
    {
      "cell_type": "code",
      "source": [
        "# Calculating Key Permutation\n",
        "key_permuted = calc_permutation(keystream, pc1)\n",
        "key_permuted"
      ],
      "metadata": {
        "colab": {
          "base_uri": "https://localhost:8080/",
          "height": 35
        },
        "id": "zguk2KvDZFWj",
        "outputId": "8ca2003c-0734-4ee1-bbe8-4c91a6434bcc"
      },
      "execution_count": 273,
      "outputs": [
        {
          "output_type": "execute_result",
          "data": {
            "text/plain": [
              "'11110000110011001010101011110101010101100110011110001111'"
            ],
            "application/vnd.google.colaboratory.intrinsic+json": {
              "type": "string"
            }
          },
          "metadata": {},
          "execution_count": 273
        }
      ]
    },
    {
      "cell_type": "code",
      "source": [
        "# Splitting keystream into left and right part\n",
        "KeyLeft, KeyRight = split_left_right(key_permuted)\n",
        "KeyLeft, KeyRight"
      ],
      "metadata": {
        "colab": {
          "base_uri": "https://localhost:8080/"
        },
        "id": "iFzyWrj5dYOF",
        "outputId": "15505817-3b3f-4036-a551-52d6431db885"
      },
      "execution_count": 274,
      "outputs": [
        {
          "output_type": "execute_result",
          "data": {
            "text/plain": [
              "('1111000011001100101010101111', '0101010101100110011110001111')"
            ]
          },
          "metadata": {},
          "execution_count": 274
        }
      ]
    },
    {
      "cell_type": "code",
      "source": [
        "# Creating 16 keys pairs by Left shift\n",
        "key_pairs = []\n",
        "\n",
        "tempkeypair = KeyLeft, KeyRight\n",
        "\n",
        "for i in range(1, 17):\n",
        "  if i in [1, 2, 9, 16]:\n",
        "    tempkeypair = key_left_circular_shift(tempkeypair[0], 1), key_left_circular_shift(tempkeypair[1], 1)\n",
        "  else:\n",
        "    tempkeypair = key_left_circular_shift(tempkeypair[0], 2), key_left_circular_shift(tempkeypair[1], 2)\n",
        "  \n",
        "  key_pairs.append(tempkeypair)\n",
        "\n",
        "key_pairs\n"
      ],
      "metadata": {
        "colab": {
          "base_uri": "https://localhost:8080/"
        },
        "id": "Vant3AnNsbzJ",
        "outputId": "e8a7f12b-8573-4e4d-8b87-466c494292bc"
      },
      "execution_count": 275,
      "outputs": [
        {
          "output_type": "execute_result",
          "data": {
            "text/plain": [
              "[('1110000110011001010101011111', '1010101011001100111100011110'),\n",
              " ('1100001100110010101010111111', '0101010110011001111000111101'),\n",
              " ('0000110011001010101011111111', '0101011001100111100011110101'),\n",
              " ('0011001100101010101111111100', '0101100110011110001111010101'),\n",
              " ('1100110010101010111111110000', '0110011001111000111101010101'),\n",
              " ('0011001010101011111111000011', '1001100111100011110101010101'),\n",
              " ('1100101010101111111100001100', '0110011110001111010101010110'),\n",
              " ('0010101010111111110000110011', '1001111000111101010101011001'),\n",
              " ('0101010101111111100001100110', '0011110001111010101010110011'),\n",
              " ('0101010111111110000110011001', '1111000111101010101011001100'),\n",
              " ('0101011111111000011001100101', '1100011110101010101100110011'),\n",
              " ('0101111111100001100110010101', '0001111010101010110011001111'),\n",
              " ('0111111110000110011001010101', '0111101010101011001100111100'),\n",
              " ('1111111000011001100101010101', '1110101010101100110011110001'),\n",
              " ('1111100001100110010101010111', '1010101010110011001111000111'),\n",
              " ('1111000011001100101010101111', '0101010101100110011110001111')]"
            ]
          },
          "metadata": {},
          "execution_count": 275
        }
      ]
    },
    {
      "cell_type": "code",
      "source": [
        "# Generating keys by adding the pairs and then permuted again with pc2 matrix\n",
        "list_of_keys = []\n",
        "\n",
        "for i in range(16):\n",
        "  temp_key = key_pairs[i][0] + key_pairs[i][1]\n",
        "  list_of_keys.append(calc_permutation(temp_key, pc2))"
      ],
      "metadata": {
        "id": "BpiQZ98qwLkh"
      },
      "execution_count": 276,
      "outputs": []
    },
    {
      "cell_type": "markdown",
      "source": [
        "# Message Encoding"
      ],
      "metadata": {
        "id": "8OYaMvBkijWW"
      }
    },
    {
      "cell_type": "code",
      "source": [
        "original_msg = '0123456789ABCDEF'\n",
        "msgstream = list(conbin(original_msg))\n",
        "print(msgstream)\n",
        "print(len(msgstream))"
      ],
      "metadata": {
        "colab": {
          "base_uri": "https://localhost:8080/"
        },
        "id": "-IjDF77GnxQl",
        "outputId": "9488ccaf-f917-49d2-8273-fcd574288b93"
      },
      "execution_count": 277,
      "outputs": [
        {
          "output_type": "stream",
          "name": "stdout",
          "text": [
            "['0', '0', '0', '0', '0', '0', '0', '1', '0', '0', '1', '0', '0', '0', '1', '1', '0', '1', '0', '0', '0', '1', '0', '1', '0', '1', '1', '0', '0', '1', '1', '1', '1', '0', '0', '0', '1', '0', '0', '1', '1', '0', '1', '0', '1', '0', '1', '1', '1', '1', '0', '0', '1', '1', '0', '1', '1', '1', '1', '0', '1', '1', '1', '1']\n",
            "64\n"
          ]
        }
      ]
    },
    {
      "cell_type": "code",
      "source": [
        "# Initial permutation Matrix\n",
        "\n",
        "IP = np.array([[58, 50, 42, 34, 26, 18, 10, 2],\n",
        "              [60, 52, 44, 36, 28, 20, 12, 4],\n",
        "              [62, 54, 46, 38, 30, 22, 14, 6],\n",
        "              [64, 56, 48, 40, 32, 24, 16, 8],\n",
        "              [57, 49, 41, 33, 25, 17, 9, 1],\n",
        "              [59, 51, 43, 35, 27, 19, 11, 3],\n",
        "              [61, 53, 45, 37, 29, 21, 13, 5],\n",
        "              [63, 55, 47, 39, 31, 23, 15, 7]])\n",
        "\n",
        "IP"
      ],
      "metadata": {
        "colab": {
          "base_uri": "https://localhost:8080/"
        },
        "id": "j76OiStticD1",
        "outputId": "7b4f9c29-ba13-41f3-d665-d851b8a2bfae"
      },
      "execution_count": 278,
      "outputs": [
        {
          "output_type": "execute_result",
          "data": {
            "text/plain": [
              "array([[58, 50, 42, 34, 26, 18, 10,  2],\n",
              "       [60, 52, 44, 36, 28, 20, 12,  4],\n",
              "       [62, 54, 46, 38, 30, 22, 14,  6],\n",
              "       [64, 56, 48, 40, 32, 24, 16,  8],\n",
              "       [57, 49, 41, 33, 25, 17,  9,  1],\n",
              "       [59, 51, 43, 35, 27, 19, 11,  3],\n",
              "       [61, 53, 45, 37, 29, 21, 13,  5],\n",
              "       [63, 55, 47, 39, 31, 23, 15,  7]])"
            ]
          },
          "metadata": {},
          "execution_count": 278
        }
      ]
    },
    {
      "cell_type": "code",
      "source": [
        "# E Matrix for Bit Selection process\n",
        "\n",
        "E = np.array([[32, 1, 2, 3, 4, 5],\n",
        "              [4, 5, 6, 7, 8, 9],\n",
        "              [8, 9, 10, 11, 12, 13],\n",
        "              [12, 13, 14, 15, 16, 17],\n",
        "              [16, 17, 18, 19, 20, 21],\n",
        "              [20, 21, 22, 23, 24, 25],\n",
        "              [24, 25, 26, 27, 28, 29],\n",
        "              [28, 29, 30, 31, 32, 1]])\n",
        "\n",
        "P = np.array([[16, 7, 20, 21],\n",
        "              [29, 12, 28, 17],\n",
        "              [1, 15, 23, 26],\n",
        "              [5, 18, 31, 10],\n",
        "              [2, 8, 24, 14],\n",
        "              [32, 27, 3, 9],\n",
        "              [19, 13, 30, 6],\n",
        "              [22, 11, 4, 25]])"
      ],
      "metadata": {
        "id": "9wV3cPwzpTaN"
      },
      "execution_count": 279,
      "outputs": []
    },
    {
      "cell_type": "code",
      "source": [
        "# Initializing 8 S - Boxes\n",
        "\n",
        "s1 = np.array([[14, 4, 13, 1, 2, 15, 11, 8, 3, 10, 6, 12, 5, 9, 0, 7],\n",
        "              [0, 15, 7, 4, 14, 2, 13, 1, 10, 6, 12, 11, 9, 5, 3, 8],\n",
        "              [4, 1, 14, 8, 13, 6, 2, 11, 15, 12, 9, 7, 3, 10, 5, 0],\n",
        "              [15, 12, 8, 2, 4, 9, 1, 7, 5, 11, 3, 14, 10, 0, 6, 13]])\n",
        "\n",
        "s2 = np.array([[15, 1, 8, 14, 6, 11, 3, 4, 9, 7, 2, 13, 12, 0, 5, 10],\n",
        "               [3, 13, 4, 7, 15, 2, 8, 14, 12, 0, 1, 10, 6, 9, 11, 5],\n",
        "               [0, 14, 7, 11, 10, 4, 13, 1, 5, 8, 12, 6, 9, 3, 2, 15],\n",
        "               [13, 8, 10, 1, 3, 15, 4, 2, 11, 6, 7, 12, 0, 5, 14, 9]])\n",
        "\n",
        "s3 = np.array([[10, 0, 9, 14, 6, 3, 15, 5, 1, 13, 12, 7, 11, 4, 2, 8],\n",
        "               [13, 7, 0, 9, 3, 4, 6, 10, 2, 8, 5, 14, 12, 11, 15, 1],\n",
        "               [13, 6, 4, 9, 8, 15, 3, 0, 11, 1, 2, 12, 5, 10, 14, 7],\n",
        "               [1, 10, 13, 0, 6, 9, 8, 7, 4, 15, 14, 3, 11, 5, 2, 12]])\n",
        "\n",
        "s4 = np.array([[7, 13, 14, 3, 0, 6, 9, 10, 1, 2, 8, 5, 11, 12, 4, 15],\n",
        "               [13, 8, 11, 5, 6, 15, 0, 3, 4, 7, 2, 12, 1, 10, 14, 9],\n",
        "               [10, 6, 9, 0, 12, 11, 7, 13, 15, 1, 3, 14, 5, 2, 8, 4],\n",
        "               [3, 15, 0, 6, 10, 1, 13, 8, 9, 4, 5, 11, 12, 7, 2, 14]])\n",
        "\n",
        "s5 = np.array([[2, 12, 4, 1, 7, 10, 11, 6, 8, 5, 3, 15, 13, 0, 14, 9],\n",
        "               [14, 11, 2, 12, 4, 7, 13, 1, 5, 0, 15, 10, 3, 9, 8, 6],\n",
        "               [4, 2, 1, 11, 10, 13, 7, 8, 15, 9, 12, 5, 6, 3, 0, 14],\n",
        "               [11, 8, 12, 7, 1, 14, 2, 13, 6, 15, 0, 9, 10, 4, 5, 3]])\n",
        "\n",
        "s6 = np.array([[12, 1, 10, 15, 9, 2, 6, 8, 0, 13, 3, 4, 14, 7, 5, 11],\n",
        "               [10, 15, 4, 2, 7, 12, 9, 5, 6, 1, 13, 14, 0, 11, 3, 8],\n",
        "               [9, 14, 15, 5, 2, 8, 12, 3, 7, 0, 4, 10, 1, 13, 11, 6],\n",
        "               [4, 3, 2, 12, 9, 5, 15, 10, 11, 14, 1, 7, 6, 0, 8, 13]])\n",
        "\n",
        "s7 = np.array([[4, 11, 2, 14, 15, 0, 8, 13, 3, 12, 9, 7, 5, 10, 6, 1],\n",
        "               [13, 0, 11, 7, 4, 9, 1, 10, 14, 3, 5, 12, 2, 15, 8, 6],\n",
        "               [1, 4, 11, 13, 12, 3, 7, 14, 10, 15, 6, 8, 0, 5, 9, 2],\n",
        "               [6, 11, 13, 8, 1, 4, 10, 7, 9, 5, 0, 15, 14, 2, 3, 12]])\n",
        "\n",
        "s8 = np.array([[13, 2, 8, 4, 6, 15, 11, 1, 10, 9, 3, 14, 5, 0, 12, 7],\n",
        "               [1, 15, 13, 8, 10, 3, 7, 4, 12, 5, 6, 11, 0, 14, 9, 2],\n",
        "               [7, 11, 4, 1, 9, 12, 14, 2, 0, 6, 10, 13, 15, 3, 5, 8],\n",
        "               [2, 1, 14, 7, 4, 10, 8, 13, 15, 12, 9, 0, 3, 5, 6, 11]])\n",
        "\n",
        "s_boxes = [s1, s2, s3, s4, s5, s6, s7, s8]"
      ],
      "metadata": {
        "id": "_BhNebKavDF0"
      },
      "execution_count": 280,
      "outputs": []
    },
    {
      "cell_type": "code",
      "source": [
        "FP = np.array([[40, 8, 48, 16, 56, 24, 64, 32],\n",
        "              [39, 7, 47, 15, 55, 23, 63, 31],\n",
        "              [38, 6, 46, 14, 54, 22, 62, 30],\n",
        "              [37, 5, 45, 13, 53, 21, 61, 29],\n",
        "              [36, 4, 44, 12, 52, 20, 60, 28],\n",
        "              [35, 3, 43, 11, 51, 19, 59, 27],\n",
        "              [34, 2, 42, 10, 50, 18, 58, 26],\n",
        "              [33, 1, 41, 9, 49, 17, 57, 25]])\n",
        "\n",
        "FP"
      ],
      "metadata": {
        "id": "6hBFFB9uzYeW",
        "colab": {
          "base_uri": "https://localhost:8080/"
        },
        "outputId": "b02f6df2-4171-4e57-ec0b-4101c5212bf4"
      },
      "execution_count": 281,
      "outputs": [
        {
          "output_type": "execute_result",
          "data": {
            "text/plain": [
              "array([[40,  8, 48, 16, 56, 24, 64, 32],\n",
              "       [39,  7, 47, 15, 55, 23, 63, 31],\n",
              "       [38,  6, 46, 14, 54, 22, 62, 30],\n",
              "       [37,  5, 45, 13, 53, 21, 61, 29],\n",
              "       [36,  4, 44, 12, 52, 20, 60, 28],\n",
              "       [35,  3, 43, 11, 51, 19, 59, 27],\n",
              "       [34,  2, 42, 10, 50, 18, 58, 26],\n",
              "       [33,  1, 41,  9, 49, 17, 57, 25]])"
            ]
          },
          "metadata": {},
          "execution_count": 281
        }
      ]
    },
    {
      "cell_type": "code",
      "source": [
        "# Calculating Initial Permutation\n",
        "initstream = calc_permutation(msgstream, IP)\n",
        "initstream"
      ],
      "metadata": {
        "id": "hxpquWhZnGnL",
        "colab": {
          "base_uri": "https://localhost:8080/",
          "height": 35
        },
        "outputId": "2f4a7df5-4e94-4542-a66f-dece553b407f"
      },
      "execution_count": 282,
      "outputs": [
        {
          "output_type": "execute_result",
          "data": {
            "text/plain": [
              "'1100110000000000110011001111111111110000101010101111000010101010'"
            ],
            "application/vnd.google.colaboratory.intrinsic+json": {
              "type": "string"
            }
          },
          "metadata": {},
          "execution_count": 282
        }
      ]
    },
    {
      "cell_type": "code",
      "source": [
        "# Splitting Message into Left & Right equal bits\n",
        "MsgLeft, MsgRight = split_left_right(initstream)\n",
        "MsgLeft, MsgRight"
      ],
      "metadata": {
        "colab": {
          "base_uri": "https://localhost:8080/"
        },
        "id": "teqN8mo5nsBZ",
        "outputId": "42f46c5d-0176-429e-c6ba-3410dbf44d36"
      },
      "execution_count": 283,
      "outputs": [
        {
          "output_type": "execute_result",
          "data": {
            "text/plain": [
              "('11001100000000001100110011111111', '11110000101010101111000010101010')"
            ]
          },
          "metadata": {},
          "execution_count": 283
        }
      ]
    },
    {
      "cell_type": "markdown",
      "source": [
        "Left and Right Stream Calculation process"
      ],
      "metadata": {
        "id": "wuBQwxb6WAj6"
      }
    },
    {
      "cell_type": "code",
      "source": [
        "# Ln = Rn-1\n",
        "# Rn = Ln-1 + f(Rn-1,Kn)\n",
        "\n",
        "newleft = MsgLeft\n",
        "newright = MsgRight\n",
        "\n",
        "print(\"L0 =\", conhex(newleft), \", R0 =\", conhex(newright))\n",
        "\n",
        "print(\"\\nRound\\t  Left\\t\\t Right\\t\\t   F\\n\")\n",
        "\n",
        "for k in range(1, len(list_of_keys)+1):\n",
        "\n",
        "  # Right Stream\n",
        "\n",
        "  # Converting 32 bits into 48 bits using E bit-selection matrix\n",
        "  R_after_E = calc_permutation(newright, E)\n",
        "\n",
        "  # Calculating f => Kn + E(Rn-1)\n",
        "  rightstream_list = calc_xor(list_of_keys[k-1], R_after_E)\n",
        "  # print(rightstream_list)\n",
        "\n",
        "  # Splitting stream \n",
        "  rightstream_list = [rightstream_list[j:j+6] for j in range(0, len(rightstream_list), 6)]\n",
        "  # print(\"R\", k, rightstream_list)\n",
        "\n",
        "  newstream = ''\n",
        "\n",
        "  for i in range(len(s_boxes)):\n",
        "    rightstream = rightstream_list[i]\n",
        "\n",
        "    # index used to identify elements in s_boxes\n",
        "    row_bits = int(rightstream[0] + rightstream[-1], 2)\n",
        "    col_bits = int(rightstream[1:-1], 2)\n",
        "\n",
        "    # Converting to binary\n",
        "    new_bits = format(s_boxes[i][row_bits][col_bits], '04b').replace('0b', '')\n",
        "\n",
        "    newstream += new_bits\n",
        "\n",
        "  # Permutation with P matrix\n",
        "  f = calc_permutation(newstream, P)\n",
        "\n",
        "  # Storing temporarily the New Right Half\n",
        "  tempright = calc_xor(newleft, f)\n",
        "\n",
        "  # Assigning right half to Left Stream\n",
        "  newleft = newright\n",
        "  \n",
        "  # Updaing the New right with the recently created right half\n",
        "  newright = tempright\n",
        "\n",
        "  \n",
        "  print(k, '\\t', conhex(newleft), '\\t', conhex(newright), '\\t->', conhex(f))"
      ],
      "metadata": {
        "colab": {
          "base_uri": "https://localhost:8080/"
        },
        "id": "44fr70k3pC_a",
        "outputId": "9e3d8bad-3e22-48ea-d0ca-e6d2956f0ca4"
      },
      "execution_count": 295,
      "outputs": [
        {
          "output_type": "stream",
          "name": "stdout",
          "text": [
            "L0 = cc00ccff , R0 = f0aaf0aa\n",
            "\n",
            "Round\t  Left\t\t Right\t\t   F\n",
            "\n",
            "1 \t f0aaf0aa \t ef4a6544 \t-> 234aa9bb\n",
            "2 \t ef4a6544 \t cc017709 \t-> 3cab87a3\n",
            "3 \t cc017709 \t a25c0bf4 \t-> 4d166eb0\n",
            "4 \t a25c0bf4 \t 77220045 \t-> bb23774c\n",
            "5 \t 77220045 \t 8a4fa637 \t-> 2813adc3\n",
            "6 \t 8a4fa637 \t e967cd69 \t-> 9e45cd2c\n",
            "7 \t e967cd69 \t 64aba10 \t-> 8c051c27\n",
            "8 \t 64aba10 \t d5694b90 \t-> 3c0e86f9\n",
            "9 \t d5694b90 \t 247cc67a \t-> 22367c6a\n",
            "10 \t 247cc67a \t b7d5d7b2 \t-> 62bc9c22\n",
            "11 \t b7d5d7b2 \t c5783c78 \t-> e104fa02\n",
            "12 \t c5783c78 \t 75bd1858 \t-> c268cfea\n",
            "13 \t 75bd1858 \t 18c3155a \t-> ddbb2922\n",
            "14 \t 18c3155a \t c28c960d \t-> b7318e55\n",
            "15 \t c28c960d \t 43423234 \t-> 5b81276e\n",
            "16 \t 43423234 \t a4cd995 \t-> c8c04f98\n"
          ]
        }
      ]
    },
    {
      "cell_type": "code",
      "source": [
        "# Adding after changing position of both half\n",
        "lastround = newright + newleft\n",
        "\n",
        "# Inverse of Initial Permutation (Final Permutation)\n",
        "cipherstream = calc_permutation(lastround, FP)\n",
        "\n",
        "cipher = conhex(cipherstream)"
      ],
      "metadata": {
        "id": "CWEcHWdfikxV"
      },
      "execution_count": 296,
      "outputs": []
    },
    {
      "cell_type": "code",
      "source": [
        "print(\"Original Text:\", original_msg)\n",
        "print(\"Key:\", original_key)\n",
        "print(\"Encrypted Text:\", cipher)"
      ],
      "metadata": {
        "colab": {
          "base_uri": "https://localhost:8080/"
        },
        "id": "Sl5r-sxaKaXI",
        "outputId": "f63c1507-5472-49af-ee86-034abc13d529"
      },
      "execution_count": 297,
      "outputs": [
        {
          "output_type": "stream",
          "name": "stdout",
          "text": [
            "Original Text: 0123456789ABCDEF\n",
            "Key: 133457799BBCDFF1\n",
            "Encrypted Text: 85e813540f0ab405\n"
          ]
        }
      ]
    }
  ]
}