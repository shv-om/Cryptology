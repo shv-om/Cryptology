{
  "nbformat": 4,
  "nbformat_minor": 0,
  "metadata": {
    "colab": {
      "name": "RC4_implementation",
      "provenance": [],
      "collapsed_sections": [],
      "authorship_tag": "ABX9TyOahNLaSrwqqiEoqd0Hew6W",
      "include_colab_link": true
    },
    "kernelspec": {
      "name": "python3",
      "display_name": "Python 3"
    },
    "language_info": {
      "name": "python"
    }
  },
  "cells": [
    {
      "cell_type": "markdown",
      "metadata": {
        "id": "view-in-github",
        "colab_type": "text"
      },
      "source": [
        "<a href=\"https://colab.research.google.com/github/shv-om/Cryptology/blob/main/RC4_implementation.ipynb\" target=\"_parent\"><img src=\"https://colab.research.google.com/assets/colab-badge.svg\" alt=\"Open In Colab\"/></a>"
      ]
    },
    {
      "cell_type": "markdown",
      "source": [
        "# RC4\n",
        "\n",
        "\n",
        "---\n",
        "\n"
      ],
      "metadata": {
        "id": "1yVz7HyTujNN"
      }
    },
    {
      "cell_type": "code",
      "execution_count": 9,
      "metadata": {
        "id": "hnT3SFBPsynF"
      },
      "outputs": [],
      "source": [
        "#              KEY\n",
        "#               |\n",
        "#               V\n",
        "#              RC4\n",
        "#               |\n",
        "#               V\n",
        "#             Keystream\n",
        "#               |\n",
        "#               V\n",
        "#       Msg --> XOR --> Cipher\n",
        "\n",
        "# RC4\n",
        "# KSA + PRGA "
      ]
    },
    {
      "cell_type": "markdown",
      "source": [
        "# KSA & PRGA with Encrypting text\n",
        "\n",
        "\n",
        "---\n",
        "\n"
      ],
      "metadata": {
        "id": "AICktBnourGg"
      }
    },
    {
      "cell_type": "code",
      "source": [
        "import numpy as np\n",
        "\n",
        "def ksa(_inputkey):\n",
        "    S = np.arange(256)\n",
        "\n",
        "    # step 1\n",
        "    T = [_inputkey[i%len(_inputkey)] for i in range(256)]\n",
        "\n",
        "    # Step 2\n",
        "    j = 0\n",
        "    for i in range(256):\n",
        "        j = ( j + int(S[i]) + int(T[i]) ) % 256\n",
        "        S[i], S[j] = S[j], S[i]\n",
        "\n",
        "    return S\n",
        "\n",
        "def PRGA(sksa, lmsg):\n",
        "    y = 0\n",
        "    z = 0\n",
        "    key = []\n",
        "\n",
        "    while (len(key) < lmsg):\n",
        "        y = (y + 1) % 256\n",
        "        z = (z + int(sksa[y])) % 256\n",
        "        sksa[y], sksa[z] = sksa[z], sksa[y]\n",
        "        \n",
        "        k = (sksa[y] + sksa[z]) % 256\n",
        "\n",
        "        key.extend(str(k))\n",
        "        # print(len(key), lmsg, len(sksa))\n",
        "    \n",
        "    return ''.join(key)"
      ],
      "metadata": {
        "id": "ShrvAROJw9ZV"
      },
      "execution_count": 10,
      "outputs": []
    },
    {
      "cell_type": "code",
      "source": [
        "def condec(m):\n",
        "    l = []\n",
        "    for i in m:\n",
        "        l.append(str(ord(i)))\n",
        "    \n",
        "    return ''.join(l)"
      ],
      "metadata": {
        "id": "jg5JnJq18QjV"
      },
      "execution_count": 11,
      "outputs": []
    },
    {
      "cell_type": "code",
      "source": [
        "# EBC Electronic Code Book\n",
        "def rc4ebc(msg, k):\n",
        "    S = ksa(condec(k))\n",
        "    key1 = PRGA(S, len(msg))\n",
        "\n",
        "    ebccipher = []\n",
        "    ebcorgmsg = []\n",
        "\n",
        "    for x1 in range(len(msg)):\n",
        "        ebccipher.append(chr(ord(msg[x1]) ^ int(key1[x1])))\n",
        "\n",
        "    for x2 in range(len(ebccipher)):\n",
        "        ebcorgmsg.append(chr(int(ord(ebccipher[x2])) ^ int(key1[x2])))\n",
        "\n",
        "    print(\"Plaintext:\", msg)\n",
        "    # print(\"key      :\", key1)\n",
        "    print(\"Encrypted:\", ''.join(ebccipher))\n",
        "    print(\"Decrypted:\", ''.join(ebcorgmsg))"
      ],
      "metadata": {
        "id": "TATQO74978ni"
      },
      "execution_count": 12,
      "outputs": []
    },
    {
      "cell_type": "code",
      "source": [
        "m = input(\"Enter your message: \")\n",
        "k = input(\"Enter your key: \")\n",
        "\n",
        "rc4ebc(m, k)"
      ],
      "metadata": {
        "colab": {
          "base_uri": "https://localhost:8080/"
        },
        "id": "jv3kFlZB3pf5",
        "outputId": "88327bae-3f7e-4e99-d9ed-807705f28849"
      },
      "execution_count": 20,
      "outputs": [
        {
          "output_type": "stream",
          "name": "stdout",
          "text": [
            "Enter your message: shivam\n",
            "Enter your key: acfhfc\n",
            "Plaintext: shivam\n",
            "Encrypted: qkjtae\n",
            "Decrypted: shivam\n"
          ]
        }
      ]
    },
    {
      "cell_type": "code",
      "source": [
        "# CBC Cipher Block Chaining\n",
        "def rc4cbc(msg, k):\n",
        "    S = ksa(condec(k))\n",
        "    key1 = PRGA(S, len(msg))\n",
        "\n",
        "    cbccipher = []\n",
        "    cbcorgmsg = []\n",
        "    \n",
        "    c = '0'\n",
        "    o = '0'\n",
        "\n",
        "    for x1 in range(len(msg)):\n",
        "        new = chr(ord(msg[x1]) ^ ord(c))\n",
        "        c = chr(ord(msg[x1]) ^ int(key1[x1]))\n",
        "        \n",
        "        cbccipher.append(c)\n",
        "\n",
        "    for x2 in range(len(cbccipher)):\n",
        "        new = chr(ord(cbccipher[x1]) ^ ord(o))\n",
        "        o = chr(int(ord(cbccipher[x2])) ^ int(key1[x2]))\n",
        "\n",
        "        cbcorgmsg.append(o)\n",
        "\n",
        "    print(\"Plaintext:\", msg)\n",
        "    # print(\"key      :\", key1)\n",
        "    print(\"Encrypted:\", ''.join(cbccipher))\n",
        "    print(\"Decrypted:\", ''.join(cbcorgmsg))"
      ],
      "metadata": {
        "id": "8Z-9PVDG8AuK"
      },
      "execution_count": 14,
      "outputs": []
    },
    {
      "cell_type": "code",
      "source": [
        "m = input(\"Enter your message: \")\n",
        "k = input(\"Enter your key: \")\n",
        "\n",
        "rc4cbc(m, k)"
      ],
      "metadata": {
        "colab": {
          "base_uri": "https://localhost:8080/"
        },
        "id": "lA70FOCOADyn",
        "outputId": "5db70175-45ec-47d0-c259-3747c61531f7"
      },
      "execution_count": 19,
      "outputs": [
        {
          "output_type": "stream",
          "name": "stdout",
          "text": [
            "Enter your message: shivam\n",
            "Enter your key: acfhfc\n",
            "Plaintext: shivam\n",
            "Encrypted: qkjtae\n",
            "Decrypted: shivam\n"
          ]
        }
      ]
    }
  ]
}